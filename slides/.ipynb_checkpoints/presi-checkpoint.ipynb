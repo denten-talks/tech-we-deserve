{
 "metadata": {
  "celltoolbar": "Slideshow",
  "name": "",
  "signature": "sha256:5a5828c201e5223d3b264918c20f1179cccbbb2e11a51a444c4c2637a7f20f16"
 },
 "nbformat": 3,
 "nbformat_minor": 0,
 "worksheets": [
  {
   "cells": [
    {
     "cell_type": "markdown",
     "metadata": {
      "slideshow": {
       "slide_type": "subslide"
      }
     },
     "source": [
      "# Technology We Deserve\n",
      "@dennistenen  \n",
      "dennistenen.com  \n",
      "github.com/denten"
     ]
    },
    {
     "cell_type": "markdown",
     "metadata": {
      "slideshow": {
       "slide_type": "slide"
      }
     },
     "source": [
      "## Plan for today\n",
      "I. What is DH?  \n",
      "II. Projects  \n",
      "II. Technology in the core  "
     ]
    },
    {
     "cell_type": "markdown",
     "metadata": {
      "slideshow": {
       "slide_type": "slide"
      }
     },
     "source": [
      "## I: What is DH?\n",
      "\n",
      "`computational culture` studies  \n",
      "vs. \n",
      "computational `culture studies`"
     ]
    },
    {
     "cell_type": "markdown",
     "metadata": {
      "slideshow": {
       "slide_type": "fragment"
      }
     },
     "source": [
      "knowledge design + knowledge architecture   "
     ]
    },
    {
     "cell_type": "markdown",
     "metadata": {
      "slideshow": {
       "slide_type": "fragment"
      }
     },
     "source": [
      "advocacy: access, labor conditions, policy, global imbalance  "
     ]
    },
    {
     "cell_type": "markdown",
     "metadata": {
      "slideshow": {
       "slide_type": "subslide"
      }
     },
     "source": [
      "### thinking + doing\n",
      "\n",
      "| old              | new                   |\n",
      "|------------------|-----------------------|\n",
      "| dogmatic         | pragmatic             |\n",
      "| solitary         | cooperative           | \n",
      "| discipline-bound | project-based         | \n",
      "| resource-starved | entrepreneurial       | \n",
      "| hierarchical     | flat                  | \n",
      "| top-down         | bottom up             |\n",
      "| prestige         | problem solving       |\n",
      "| conservative     | transformative        |\n"
     ]
    },
    {
     "cell_type": "markdown",
     "metadata": {
      "slideshow": {
       "slide_type": "subslide"
      }
     },
     "source": [
      "### the bad and the ugly\n",
      "\n",
      "DH can also be:\n",
      "- instrumental\n",
      "- shallow \n",
      "- atheoretical\n",
      "- ahistorical\n",
      "- tool obsessed\n",
      "- meta solipsistic\n",
      "- administrative\n",
      "- sensationalist hype and kool-aid (not unlike big data)"
     ]
    },
    {
     "cell_type": "markdown",
     "metadata": {
      "slideshow": {
       "slide_type": "slide"
      }
     },
     "source": [
      "## II: Quick Case Studies\n",
      "### A. Aleph: Book Piracy as Peer Preservation\n",
      "- 1,021,000 books\n",
      "- 15,000,000 articles\n",
      "- 10+ tb"
     ]
    },
    {
     "cell_type": "markdown",
     "metadata": {
      "slideshow": {
       "slide_type": "fragment"
      }
     },
     "source": [
      "- $1,900 / year"
     ]
    },
    {
     "cell_type": "markdown",
     "metadata": {
      "slideshow": {
       "slide_type": "fragment"
      }
     },
     "source": [
      "- vs. $61,869,272 for CUL 2011-12"
     ]
    },
    {
     "cell_type": "markdown",
     "metadata": {
      "slideshow": {
       "slide_type": "subslide"
      }
     },
     "source": [
      "### B. Open Syllabus Project\n",
      "<img src=\"https://raw.githubusercontent.com/denten/talks/master/TC/osp.jpg\">"
     ]
    },
    {
     "cell_type": "markdown",
     "metadata": {
      "slideshow": {
       "slide_type": "subslide"
      }
     },
     "source": [
      "### Rap Genius\n",
      "<img src=\"https://raw.githubusercontent.com/denten/talks/master/TC/rap1.jpg\">"
     ]
    },
    {
     "cell_type": "markdown",
     "metadata": {
      "slideshow": {
       "slide_type": "subslide"
      }
     },
     "source": [
      "### Rap Genius\n",
      "<img src=\"https://raw.githubusercontent.com/denten/talks/master/TC/rap2.jpg\">"
     ]
    },
    {
     "cell_type": "markdown",
     "metadata": {
      "slideshow": {
       "slide_type": "slide"
      }
     },
     "source": [
      "## III: Technology we deserve?\n",
      " Winner, Langdon. \"Do Artifacts Have Politics?\" in *The Whale and the Reactor: a Search for Limits in an Age of High Technology.* Chicago, University of Chicago Press, 1986.  \n",
      " \n",
      " > The things we call \"technologies\" are ways of building order in our world. Many technical devices and systems important in everyday life contain possibilities for many different ways of ordering human activity [...] societies choose structures for technologies that influence how people are going to work, communicate, travel, consume, and so forth over a long period of time [...] By far, **the greatest latitude of choice exists the very first time a particular instrument, system, or technique is introduced**. Because choices tend to become strongly fixed in material equipment, economic investment, and social habit, the original flexibility vanishes from all practical purposes one the initial commitments are made.\n",
      "\n",
      "> In that sense technological innovations are similar to legislative acts or political founding that establish a framework for public order that will endure for many generations. For that reason, the same careful attention one would give to the rules, roles, and relationship of politics must also be given to such things as the building of highways, the creation of television networks, and the tailoring of seemingly insignificant features on new machines. **The issues that divide or unite people in society are settled not only in the institutions and practices political proper, but also, and less obviously, in tangible arrangements of steel and concrete, wires and transistors, nuts and bolts**."
     ]
    },
    {
     "cell_type": "markdown",
     "metadata": {
      "slideshow": {
       "slide_type": "subslide"
      }
     },
     "source": [
      "Scarry, Elaine. \"Citizenship in Emergency,\" *Boston Review* Vol. 27, No. 5, October/November 2002. \n",
      "\n",
      "* openness \n",
      "* consent\n",
      "* deliberation\n",
      "* participation\n",
      "* agency (ability to change the world and the material constraints of technology itself)"
     ]
    },
    {
     "cell_type": "markdown",
     "metadata": {
      "slideshow": {
       "slide_type": "subslide"
      }
     },
     "source": [
      "### Stay in touch!  \n",
      "\n",
      "@dennistenen \n",
      "\n",
      "dennistenen.com  \n",
      "\n",
      "github.com/denten"
     ]
    }
   ],
   "metadata": {}
  }
 ]
}